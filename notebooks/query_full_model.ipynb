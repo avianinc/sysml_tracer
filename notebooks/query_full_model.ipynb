{
 "cells": [
  {
   "cell_type": "markdown",
   "id": "96cc1f5a",
   "metadata": {},
   "source": [
    "## This note book will pull the entire json file of a model from the sysml api server\n",
    "- update the host\n",
    "- update the projectId\n",
    "- update the commitId"
   ]
  },
  {
   "cell_type": "code",
   "execution_count": 1,
   "id": "1a5737ff-6a7a-48f7-b084-b57b8e3bdd5c",
   "metadata": {
    "tags": []
   },
   "outputs": [],
   "source": [
    "from __future__ import print_function\n",
    "\n",
    "import time\n",
    "import requests\n",
    "from pprint import pprint\n",
    "import pandas as pd\n",
    "import json\n",
    "#from datetime import datetime\n",
    "\n",
    "#host = \"<specify protocol://host:port of the server that is a provider of the SysML v2 REST/HTTP API\"\n",
    "host = \"http://sysmlapiserver:9000\""
   ]
  },
  {
   "cell_type": "code",
   "execution_count": 2,
   "id": "24eb5132-f862-4576-85fb-21c1175512df",
   "metadata": {
    "tags": []
   },
   "outputs": [],
   "source": [
    "# Fine the project id by the project human name\n",
    "projectId = \"5db467f8-02bf-43cd-98f4-4315f66ddb53\"\n",
    "commitId = \"9164a608-d997-4fed-92a4-fb213c46d938\""
   ]
  },
  {
   "cell_type": "code",
   "execution_count": 4,
   "id": "169f4262-c7df-4a30-958a-f1d663c46d56",
   "metadata": {
    "tags": []
   },
   "outputs": [
    {
     "name": "stdout",
     "output_type": "stream",
     "text": [
      "Data successfully written to query_results.json\n"
     ]
    }
   ],
   "source": [
    "# by FQN\n",
    "query_input = {\n",
    "  \"@type\": \"Query\"\n",
    "}\n",
    "\n",
    "payload = json.dumps(query_input)\n",
    "query_url = f\"{host}/projects/{projectId}/query-results\" \n",
    "query_response = requests.post(query_url, json=query_input)\n",
    "\n",
    "if query_response.status_code == 200:\n",
    "    data = query_response.json()\n",
    "    \n",
    "    # Define the filename where you want to save the data\n",
    "    filename = \"query_results.json\"\n",
    "    \n",
    "    # Serialize JSON data to a string format to write to a file\n",
    "    data_str = json.dumps(data, indent=4)  # Use indent for pretty printing\n",
    "    \n",
    "    # Open the file in write mode ('w') and write the data\n",
    "    with open(filename, 'w') as file:\n",
    "        file.write(data_str)\n",
    "    \n",
    "    print(f\"Data successfully written to {filename}\")\n",
    "else:\n",
    "    print(f\"Failed to fetch data: HTTP {query_response.status_code}\")"
   ]
  }
 ],
 "metadata": {
  "kernelspec": {
   "display_name": "Python 3 (ipykernel)",
   "language": "python",
   "name": "python3"
  },
  "language_info": {
   "codemirror_mode": {
    "name": "ipython",
    "version": 3
   },
   "file_extension": ".py",
   "mimetype": "text/x-python",
   "name": "python",
   "nbconvert_exporter": "python",
   "pygments_lexer": "ipython3",
   "version": "3.10.0"
  }
 },
 "nbformat": 4,
 "nbformat_minor": 5
}
