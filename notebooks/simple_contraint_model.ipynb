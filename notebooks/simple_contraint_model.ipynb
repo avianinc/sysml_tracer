{
 "cells": [
  {
   "cell_type": "code",
   "execution_count": 2,
   "id": "4ac2a5c8-3a04-47d7-b75f-f9ef7ddb9524",
   "metadata": {
    "tags": [],
    "vscode": {
     "languageId": "sysml"
    }
   },
   "outputs": [
    {
     "data": {
      "text/plain": [
       "Package simple_constraint (52a32874-5557-42c0-8683-5f083d81671f)\n"
      ]
     },
     "execution_count": 2,
     "metadata": {},
     "output_type": "execute_result"
    }
   ],
   "source": [
    "package simple_constraint {\n",
    "    \n",
    "    part uav {\n",
    "        range = 5;\n",
    "    }\n",
    "    \n",
    "    requirement <'1'> UAV_Range [1] {\n",
    "            doc /* The uav shall have a minimum range of 'uav.range' */\n",
    "            attribute measuredRange {doc /* This value is from and external analysis */}\n",
    "            require constraint requiredRangeConstarint [1] { measuredRange >= uav.range }\n",
    "            }\n",
    "}"
   ]
  },
  {
   "cell_type": "code",
   "execution_count": 6,
   "id": "db156061-fa95-4214-85d6-45b454adb740",
   "metadata": {
    "tags": [],
    "vscode": {
     "languageId": "sysml"
    }
   },
   "outputs": [
    {
     "data": {
      "text/plain": [
       "ConstraintUsage requiredRangeConstarint (514de5e8-c6e5-44e3-ad67-27f371309ab4)\n",
       "  [ReturnParameterMembership] ReferenceUsage result (4bb72d4d-80a0-4929-8144-af79ee772ad0)\n"
      ]
     },
     "execution_count": 6,
     "metadata": {},
     "output_type": "execute_result"
    }
   ],
   "source": [
    "%show simple_constraint::UAV_Range::requiredRangeConstarint"
   ]
  },
  {
   "cell_type": "code",
   "execution_count": 7,
   "id": "a2212ce5-0c1d-4461-ae79-7dc1d06c23cb",
   "metadata": {
    "tags": [],
    "vscode": {
     "languageId": "sysml"
    }
   },
   "outputs": [
    {
     "data": {
      "image/svg+xml": [
       "<?xml version=\"1.0\" encoding=\"UTF-8\" standalone=\"no\"?><svg xmlns=\"http://www.w3.org/2000/svg\" xmlns:xlink=\"http://www.w3.org/1999/xlink\" contentStyleType=\"text/css\" height=\"96px\" preserveAspectRatio=\"none\" style=\"width:274px;height:96px;background:#FFFFFF;\" version=\"1.1\" viewBox=\"0 0 274 96\" width=\"274px\" zoomAndPan=\"magnify\"><defs/><g><!--MD5=[43c9051892ef23e1a46a86907403d788]\n",
       "class E1--><a href=\"psysml:514de5e8-c6e5-44e3-ad67-27f371309ab4\" target=\"_top\" title=\"psysml:514de5e8-c6e5-44e3-ad67-27f371309ab4\" xlink:actuate=\"onRequest\" xlink:href=\"psysml:514de5e8-c6e5-44e3-ad67-27f371309ab4\" xlink:show=\"new\" xlink:title=\"psysml:514de5e8-c6e5-44e3-ad67-27f371309ab4\" xlink:type=\"simple\"><g id=\"elem_E1\"><rect fill=\"#FFFFFF\" height=\"75.0813\" id=\"E1\" rx=\"10\" ry=\"10\" style=\"stroke:#181818;stroke-width:0.5;\" width=\"253\" x=\"7\" y=\"7\"/><text fill=\"#000000\" font-family=\"sans-serif\" font-size=\"12\" font-style=\"italic\" lengthAdjust=\"spacing\" textLength=\"78\" x=\"94.5\" y=\"23.1387\">«constraint»</text><text fill=\"#000000\" font-family=\"sans-serif\" font-size=\"14\" lengthAdjust=\"spacing\" textLength=\"174\" x=\"42.5\" y=\"38.9639\">requiredRangeConstarint</text><line style=\"stroke:#181818;stroke-width:0.5;\" x1=\"8\" x2=\"259\" y1=\"47.2656\" y2=\"47.2656\"/><text fill=\"#000000\" font-family=\"sans-serif\" font-size=\"14\" lengthAdjust=\"spacing\" textLength=\"241\" x=\"13\" y=\"74.7795\">{ measuredRange &gt;= uav.range }</text><text fill=\"#000000\" font-family=\"sans-serif\" font-size=\"14\" font-style=\"italic\" lengthAdjust=\"spacing\" textLength=\"147\" x=\"60\" y=\"59.6123\">operator expressions</text></g></a><!--MD5=[fdab12568fba97a0e0ff35ed49a341ff]\n",
       "@startuml\r\n",
       "skin sysmlbw\r\n",
       "skinparam monochrome true\r\n",
       "skinparam wrapWidth 300\r\n",
       "hide circle\r\n",
       "\r\n",
       "comp usage \"requiredRangeConstarint  \" as E1  <<(T,blue) constraint>> [[psysml:514de5e8-c6e5-44e3-ad67-27f371309ab4 ]] {\r\n",
       "##//operator expressions//##\r\n",
       " { measuredRange ><U+003D> uav.range }\r\n",
       "}\r\n",
       "@enduml\r\n",
       "\n",
       "PlantUML version 1.2022.7(Mon Aug 22 17:01:30 UTC 2022)\n",
       "(EPL source distribution)\n",
       "Java Runtime: OpenJDK Runtime Environment\n",
       "JVM: OpenJDK 64-Bit Server VM\n",
       "Default Encoding: UTF-8\n",
       "Language: en\n",
       "Country: null\n",
       "--></g></svg>"
      ]
     },
     "execution_count": 7,
     "metadata": {},
     "output_type": "execute_result"
    }
   ],
   "source": [
    "%viz simple_constraint::UAV_Range::requiredRangeConstarint"
   ]
  },
  {
   "cell_type": "code",
   "execution_count": 8,
   "id": "0c643ef8-3264-4b38-a41f-ab5de1209834",
   "metadata": {
    "tags": [],
    "vscode": {
     "languageId": "sysml"
    }
   },
   "outputs": [
    {
     "name": "stdout",
     "output_type": "stream",
     "text": [
      "API base path: http://sysmlapiserver:9000\n",
      "Processing\n",
      "Posting Commit (48 elements)...51ff3b76-d121-429a-8eb1-cbd6f2f3d2a7\n",
      "\n"
     ]
    },
    {
     "data": {
      "text/plain": [
       "Saved to Project requiredRangeConstarint Wed Apr 10 13:11:14 UTC 2024 (aee5a7ac-7bb4-4f29-a41f-30788d118ee5)\n"
      ]
     },
     "execution_count": 8,
     "metadata": {},
     "output_type": "execute_result"
    }
   ],
   "source": [
    "%publish simple_constraint::UAV_Range::requiredRangeConstarint"
   ]
  }
 ],
 "metadata": {
  "kernelspec": {
   "display_name": "SysML",
   "language": "sysml",
   "name": "sysml"
  },
  "language_info": {
   "codemirror_mode": "sysml",
   "file_extension": ".sysml",
   "mimetype": "text/x-sysml",
   "name": "SysML",
   "pygments_lexer": "java",
   "version": "1.0.0"
  }
 },
 "nbformat": 4,
 "nbformat_minor": 5
}
